{
 "cells": [
  {
   "cell_type": "markdown",
   "metadata": {},
   "source": [
    "# 一、概述"
   ]
  },
  {
   "cell_type": "markdown",
   "metadata": {},
   "source": [
    "# Socket Server\n",
    "-*- coding:utf-8 -*-\n",
    "\n",
    "import socket\n",
    "\n",
    "ip_port = ('127.0.0.1',9999)\n",
    "\n",
    "sk = socket.socket()\n",
    "sk.bind(ip_port)\n",
    "sk.listen(5)\n",
    "\n",
    "while True:\n",
    "    print ('server waiting...')\n",
    "    conn,addr = sk.accept()\n",
    "\n",
    "    client_data = conn.recv(1024)\n",
    "    print (client_data)\n",
    "    conn.sendall('不要回答,不要回答,不要回答')\n",
    "\n",
    "    conn.close()"
   ]
  },
  {
   "cell_type": "markdown",
   "metadata": {},
   "source": [
    "# Socket Client \n",
    "-*- coding:utf-8 -*-\n",
    "\n",
    "import socket\n",
    "ip_port = ('127.0.0.1',9999)\n",
    "\n",
    "sk = socket.socket()\n",
    "sk.connect(ip_port)\n",
    "\n",
    "sk.sendall('请求占领地球')\n",
    "\n",
    "server_reply = sk.recv(1024)\n",
    "print (server_reply)\n",
    "\n",
    "sk.close()"
   ]
  },
  {
   "cell_type": "markdown",
   "metadata": {},
   "source": [
    "# Socket Web\n",
    "coding:utf-8\n",
    "\n",
    "import socket\n",
    "\n",
    "def handle_request(client):\n",
    "    buf = client.recv(1024)\n",
    "    client.send(\"HTTP/1.1 200 OK\\r\\n\\r\\n\")\n",
    "    client.send(\"Hello, World\")\n",
    "\n",
    "def main():\n",
    "    sock = socket.socket(socket.AF_INET, socket.SOCK_STREAM)\n",
    "    sock.bind(('localhost',8080))\n",
    "    sock.listen(5)\n",
    "\n",
    "    while True:\n",
    "        connection, address = sock.accept()\n",
    "        handle_request(connection)\n",
    "        connection.close()\n",
    "\n",
    "if __name__ == '__main__':\n",
    "  main()\n"
   ]
  },
  {
   "cell_type": "markdown",
   "metadata": {},
   "source": [
    "# 二、解释"
   ]
  },
  {
   "cell_type": "markdown",
   "metadata": {},
   "source": [
    "sk = socket.socket(socket.AF_INET,socket.SOCK_STREAM,0)"
   ]
  },
  {
   "cell_type": "markdown",
   "metadata": {},
   "source": [
    "参数一：地址簇\n",
    "\n",
    "　　socket.AF_INET IPv4（默认）\n",
    "　　socket.AF_INET6 IPv6\n",
    "\n",
    "　　socket.AF_UNIX 只能够用于单一的Unix系统进程间通信\n",
    "\n",
    "参数二：类型\n",
    "\n",
    "　　socket.SOCK_STREAM　　流式socket , for TCP （默认）\n",
    "　　socket.SOCK_DGRAM　　 数据报式socket , for UDP\n",
    "\n",
    "　　socket.SOCK_RAW 原始套接字，普通的套接字无法处理ICMP、IGMP等网络报文，而SOCK_RAW可以；其次，SOCK_RAW也可以处理特殊的IPv4报文；此外，利用原始套接字，可以通过IP_HDRINCL套接字选项由用户构造IP头。\n",
    "　　socket.SOCK_RDM 是一种可靠的UDP形式，即保证交付数据报但不保证顺序。SOCK_RAM用来提供对原始协议的低级访问，在需要执行某些特殊操作时使用，如发送ICMP报文。SOCK_RAM通常仅限于高级用户或管理员运行的程序使用。\n",
    "　　socket.SOCK_SEQPACKET 可靠的连续数据包服务\n",
    "\n",
    "参数三：协议\n",
    "　（默认）与特定的地址家族相关的协议,如果是 0 ，则系统就会根据地址格式和套接类别,自动选择一个合适的协议\n",
    "\n",
    "\n",
    "\n",
    "import socket\n",
    "ip_port = ('127.0.0.1',9999)\n",
    "sk = socket.socket(socket.AF_INET,socket.SOCK_DGRAM,0)\n",
    "sk.bind(ip_port)\n",
    "\n",
    "while True:\n",
    "    data = sk.recv(1024)\n",
    "    print (data)\n",
    "\n",
    "\n",
    "\n",
    "\n",
    "import socket\n",
    "ip_port = ('127.0.0.1',9999)\n",
    "\n",
    "sk = socket.socket(socket.AF_INET,socket.SOCK_DGRAM,0)\n",
    "while True:\n",
    "    inp = raw_input('数据：').strip()\n",
    "    if inp == 'exit':\n",
    "        break\n",
    "    sk.sendto(inp,ip_port)\n",
    "\n",
    "sk.close()\n",
    "\n",
    "UDP demo"
   ]
  },
  {
   "cell_type": "markdown",
   "metadata": {},
   "source": [
    "sk.bind(address)"
   ]
  },
  {
   "cell_type": "markdown",
   "metadata": {},
   "source": [
    "s.bind(address) 将套接字绑定到地址。address地址的格式取决于地址族。在AF_INET下，以元组（host,port）的形式表示地址。"
   ]
  },
  {
   "cell_type": "markdown",
   "metadata": {},
   "source": [
    "sk.listen(backlog)"
   ]
  },
  {
   "cell_type": "markdown",
   "metadata": {},
   "source": [
    "开始监听传入连接。backlog指定在拒绝连接之前，可以挂起的最大连接数量。\n",
    "\n",
    "      backlog等于5，表示内核已经接到了连接请求，但服务器还没有调用accept进行处理的连接个数最大为5\n",
    "      这个值不能无限大，因为要在内核中维护连接队列"
   ]
  },
  {
   "cell_type": "markdown",
   "metadata": {},
   "source": [
    "sk.setblocking(bool)"
   ]
  },
  {
   "cell_type": "markdown",
   "metadata": {},
   "source": [
    "是否阻塞（默认True），如果设置False，那么accept和recv时一旦无数据，则报错。"
   ]
  },
  {
   "cell_type": "markdown",
   "metadata": {},
   "source": [
    "sk.accept()"
   ]
  },
  {
   "cell_type": "markdown",
   "metadata": {},
   "source": [
    "接受连接并返回（conn,address）,其中conn是新的套接字对象，可以用来接收和发送数据。address是连接客户端的地址。\n",
    "\n",
    "　　接收TCP 客户的连接（阻塞式）等待连接的到来"
   ]
  },
  {
   "cell_type": "markdown",
   "metadata": {},
   "source": [
    "sk.connect(address)"
   ]
  },
  {
   "cell_type": "markdown",
   "metadata": {},
   "source": [
    "连接到address处的套接字。一般，address的格式为元组（hostname,port）,如果连接出错，返回socket.error错误。"
   ]
  },
  {
   "cell_type": "markdown",
   "metadata": {},
   "source": [
    "sk.connect_ex(address)"
   ]
  },
  {
   "cell_type": "markdown",
   "metadata": {},
   "source": [
    "同上，只不过会有返回值，连接成功时返回 0 ，连接失败时候返回编码，例如：10061"
   ]
  },
  {
   "cell_type": "markdown",
   "metadata": {},
   "source": [
    "sk.close()"
   ]
  },
  {
   "cell_type": "markdown",
   "metadata": {},
   "source": [
    "关闭套接字"
   ]
  },
  {
   "cell_type": "markdown",
   "metadata": {},
   "source": [
    "sk.recv(bufsize[,flag])"
   ]
  },
  {
   "cell_type": "markdown",
   "metadata": {},
   "source": [
    "接受套接字的数据。数据以字符串形式返回，bufsize指定最多可以接收的数量。flag提供有关消息的其他信息，通常可以忽略"
   ]
  },
  {
   "cell_type": "markdown",
   "metadata": {},
   "source": [
    "sk.recvfrom(bufsize[.flag])"
   ]
  },
  {
   "cell_type": "markdown",
   "metadata": {},
   "source": [
    "与recv()类似，但返回值是（data,address）。其中data是包含接收数据的字符串，address是发送数据的套接字地址。"
   ]
  },
  {
   "cell_type": "markdown",
   "metadata": {},
   "source": [
    "sk.send(string[,flag])"
   ]
  },
  {
   "cell_type": "markdown",
   "metadata": {},
   "source": [
    "将string中的数据发送到连接的套接字。返回值是要发送的字节数量，该数量可能小于string的字节大小。"
   ]
  },
  {
   "cell_type": "markdown",
   "metadata": {},
   "source": [
    "sk.sendall(string[,flag])"
   ]
  },
  {
   "cell_type": "markdown",
   "metadata": {},
   "source": [
    "将string中的数据发送到连接的套接字，但在返回之前会尝试发送所有数据。成功返回None，失败则抛出异常。"
   ]
  },
  {
   "cell_type": "markdown",
   "metadata": {},
   "source": [
    "sk.sendto(string[,flag],address)"
   ]
  },
  {
   "cell_type": "markdown",
   "metadata": {},
   "source": [
    "将数据发送到套接字，address是形式为（ipaddr，port）的元组，指定远程地址。返回值是发送的字节数。该函数主要用于UDP协议。"
   ]
  },
  {
   "cell_type": "markdown",
   "metadata": {},
   "source": [
    "sk.settimeout(timeout)"
   ]
  },
  {
   "cell_type": "markdown",
   "metadata": {},
   "source": [
    "设置套接字操作的超时期，timeout是一个浮点数，单位是秒。值为None表示没有超时期。一般，超时期应该在刚创建套接字时设置，因为它们可能用于连接的操作（如 client 连接最多等待5s ）"
   ]
  },
  {
   "cell_type": "markdown",
   "metadata": {},
   "source": [
    "sk.getpeername()"
   ]
  },
  {
   "cell_type": "markdown",
   "metadata": {},
   "source": [
    "返回连接套接字的远程地址。返回值通常是元组（ipaddr,port）。"
   ]
  },
  {
   "cell_type": "markdown",
   "metadata": {},
   "source": [
    "sk.getsockname()"
   ]
  },
  {
   "cell_type": "markdown",
   "metadata": {},
   "source": [
    "返回套接字自己的地址。通常是一个元组(ipaddr,port)"
   ]
  },
  {
   "cell_type": "markdown",
   "metadata": {},
   "source": [
    "sk.fileno()"
   ]
  },
  {
   "cell_type": "markdown",
   "metadata": {},
   "source": [
    "套接字的文件描述符"
   ]
  },
  {
   "cell_type": "markdown",
   "metadata": {},
   "source": [
    "# 三、实例（智能机器人）"
   ]
  },
  {
   "cell_type": "markdown",
   "metadata": {},
   "source": [
    "\n",
    "# 服务器端\n",
    "-*- coding:utf-8 -*-\n",
    "\n",
    "\n",
    "\n",
    "import socket\n",
    "\n",
    "ip_port = ('127.0.0.1',8888)\n",
    "sk = socket.socket()\n",
    "sk.bind(ip_port)\n",
    "sk.listen(5)\n",
    "\n",
    "while True:\n",
    "    conn,address =  sk.accept()\n",
    "    conn.sendall('欢迎致电 10086，请输入1xxx,0转人工服务.')\n",
    "    Flag = True\n",
    "    while Flag:\n",
    "        data = conn.recv(1024)\n",
    "        if data == 'exit':\n",
    "            Flag = False\n",
    "        elif data == '0':\n",
    "            conn.sendall('通过可能会被录音.balabala一大推')\n",
    "        else:\n",
    "            conn.sendall('请重新输入.')\n",
    "    conn.close()\n",
    "\n",
    "\n",
    "服务端"
   ]
  },
  {
   "cell_type": "markdown",
   "metadata": {},
   "source": [
    "\n",
    "# 客户端\n",
    "-*- coding:utf-8 -*-\n",
    "\n",
    "\n",
    "import socket\n",
    "\n",
    "\n",
    "ip_port = ('127.0.0.1',8005)\n",
    "sk = socket.socket()\n",
    "sk.connect(ip_port)\n",
    "sk.settimeout(5)\n",
    "\n",
    "while True:\n",
    "    data = sk.recv(1024)\n",
    "    print 'receive:',data\n",
    "    inp = raw_input('please input:')\n",
    "    sk.sendall(inp)\n",
    "    if inp == 'exit':\n",
    "        break\n",
    "\n",
    "sk.close()\n"
   ]
  },
  {
   "cell_type": "markdown",
   "metadata": {},
   "source": [
    "# Socket Server模块"
   ]
  },
  {
   "cell_type": "markdown",
   "metadata": {},
   "source": [
    "对于默认Socket服务端处理客户端请求时，按照阻塞方式依次处理请求，SocketServer实现同时处理多个请求。"
   ]
  },
  {
   "cell_type": "markdown",
   "metadata": {},
   "source": [
    "\n",
    "# SocketServer实例--服务器端\n",
    "\n",
    "-*- coding:utf-8 -*-\n",
    "\n",
    "import SocketServer\n",
    "\n",
    "class MyServer(SocketServer.BaseRequestHandler):  #定义request handler类，从BaseRequestHandler类继承\n",
    "\n",
    "    def handle(self):  #复写handle()方法，注意：该方法必须复写，用于处理当前的request\n",
    "        # print self.request,self.client_address,self.server \n",
    "        conn = self.request  #self.request是和客户端连接的套接字，可直接使用\n",
    "        conn.sendall('欢迎致电 10086，请输入1xxx,0转人工服务.')\n",
    "        Flag = True\n",
    "        while Flag:\n",
    "            data = conn.recv(1024)\n",
    "            if data == 'exit':\n",
    "                Flag = False\n",
    "            elif data == '0':\n",
    "                conn.sendall('通过可能会被录音.balabala一大推')\n",
    "            else:\n",
    "                conn.sendall('请重新输入.')\n",
    "\n",
    "\n",
    "if __name__ == '__main__':\n",
    "    server = SocketServer.ThreadingTCPServer(('127.0.0.1',8009),MyServer) #传入监听地址、端口号和request handler类\n",
    "    server.serve_forever()  #启动监听处理request\n",
    "\n"
   ]
  },
  {
   "cell_type": "markdown",
   "metadata": {},
   "source": [
    "\n",
    "# SocketServer实例--客户端\n",
    "-*- coding:utf-8 -*-\n",
    "\n",
    "\n",
    "import socket\n",
    "\n",
    "\n",
    "ip_port = ('127.0.0.1',8009)\n",
    "sk = socket.socket()\n",
    "sk.connect(ip_port)\n",
    "sk.settimeout(5)\n",
    "\n",
    "while True:\n",
    "    data = sk.recv(1024)\n",
    "    print 'receive:',data\n",
    "    inp = raw_input('please input:')\n",
    "    sk.sendall(inp)\n",
    "    if inp == 'exit':\n",
    "        break\n",
    "\n",
    "sk.close()\n"
   ]
  },
  {
   "cell_type": "markdown",
   "metadata": {},
   "source": [
    "# 从剖析上述源码执行流程，对源码精简如下：\n",
    "import socket\n",
    "import threading\n",
    "import select\n",
    "\n",
    "\n",
    "def process(request, client_address):\n",
    "    print (request,client_address)\n",
    "    conn = request\n",
    "    conn.sendall('欢迎致电 10086，请输入1xxx,0转人工服务.')\n",
    "    flag = True\n",
    "    while flag:\n",
    "        data = conn.recv(1024)\n",
    "        if data == 'exit':\n",
    "            flag = False\n",
    "        elif data == '0':\n",
    "            conn.sendall('通过可能会被录音.balabala一大推')\n",
    "        else:\n",
    "            conn.sendall('请重新输入.')\n",
    "\n",
    "sk = socket.socket(socket.AF_INET, socket.SOCK_STREAM)\n",
    "sk.bind(('127.0.0.1',8002))\n",
    "sk.listen(5)\n",
    "\n",
    "while True:\n",
    "    r, w, e = select.select([sk,],[],[],1)\n",
    "    print ('looping')\n",
    "    if sk in r:\n",
    "        print ('get request')\n",
    "        request, client_address = sk.accept()\n",
    "        t = threading.Thread(target=process, args=(request, client_address))\n",
    "        t.daemon = False\n",
    "        t.start()\n",
    "\n",
    "sk.close()"
   ]
  },
  {
   "cell_type": "markdown",
   "metadata": {},
   "source": [
    "如精简代码可以看出，SocketServer之所以可以同时处理请求得益于 select 和 Threading 两个东西，其实本质上就是在服务器端为每一个客户端创建一个线程，当前线程用来处理对应客户端的请求，所以，可以支持同时n个客户端链接（长连接）。"
   ]
  },
  {
   "cell_type": "markdown",
   "metadata": {},
   "source": [
    "# FTP上传文件 服务器端\n",
    "#coding:utf-8\n",
    "\n",
    "import SocketServer\n",
    "import os\n",
    "\n",
    "class MyServer(SocketServer.BaseRequestHandler):\n",
    "    def handle(self):\n",
    "        base_path = 'G:/temp'\n",
    "        conn = self.request\n",
    "        print 'connected...'\n",
    "        while True:\n",
    "            pre_data = conn.recv(1024)\n",
    "            #获取请求方法、文件名、文件大小\n",
    "            cmd,file_name,file_size = pre_data.split('|')\n",
    "            #防止粘包，给客户端发送一个信号。\n",
    "            conn.sendall('nothing')            \n",
    "            #已经接收文件的大小\n",
    "            recv_size = 0\n",
    "            #上传文件路径拼接\n",
    "            file_dir = os.path.join(base_path,file_name)\n",
    "            f = file(file_dir,'wb')\n",
    "            Flag = True\n",
    "            while Flag:\n",
    "                #未上传完毕，\n",
    "                if int(file_size)>recv_size:\n",
    "                    #最多接收1024，可能接收的小于1024\n",
    "                    data = conn.recv(1024) \n",
    "                    recv_size+=len(data)\n",
    "                    #写入文件\n",
    "                    f.write(data)\n",
    "                #上传完毕，则退出循环\n",
    "                else:\n",
    "                    recv_size = 0\n",
    "                    Flag = False\n",
    "                \n",
    "            print 'upload successed.'\n",
    "            f.close()\n",
    "    \n",
    "instance = SocketServer.ThreadingTCPServer(('127.0.0.1',9999),MyServer)\n",
    "instance.serve_forever()\n"
   ]
  },
  {
   "cell_type": "markdown",
   "metadata": {},
   "source": [
    "# FTP上传文件 客户端\n",
    "#coding:utf-8\n",
    "\n",
    "\n",
    "import socket\n",
    "import sys\n",
    "import os\n",
    "\n",
    "ip_port = ('127.0.0.1',9999)\n",
    "sk = socket.socket()\n",
    "sk.connect(ip_port)\n",
    "\n",
    "container = {'key':'','data':''}\n",
    "while True:\n",
    "    #客户端输入要上传文件的路径\n",
    "    input = raw_input('path:')\n",
    "    #根据路径获取文件名\n",
    "    file_name = os.path.basename(path)\n",
    "    #获取文件大小\n",
    "    file_size=os.stat(path).st_size\n",
    "    #发送文件名 和 文件大小\n",
    "    sk.send(file_name+'|'+str(file_size))\n",
    "    #为了防止粘包，将文件名和大小发送过去之后，等待服务端收到，直到从服务端接受一个信号（说明服务端已经收到）\n",
    "    sk.recv(1024)\n",
    "    send_size = 0\n",
    "    f= file(path,'rb')\n",
    "    Flag = True\n",
    "    while Flag:\n",
    "        if send_size + 1024 >file_size:\n",
    "            data = f.read(file_size-send_size)\n",
    "            Flag = False\n",
    "        else:\n",
    "            data = f.read(1024)\n",
    "            send_size+=1024\n",
    "        sk.send(data)\n",
    "    f.close()\n",
    "    \n",
    "sk.close()\n"
   ]
  },
  {
   "cell_type": "markdown",
   "metadata": {},
   "source": [
    "# 对于大文件处理：\n",
    "send只会向缓冲区写一次，传入的内容不一定能发完，所以，返回值是实际发送的大小。\n",
    "例如：\n",
    "1023M = send(1g数据)   那么实际是发送了 1023M，其他 1M 就是漏发了"
   ]
  },
  {
   "cell_type": "markdown",
   "metadata": {},
   "source": [
    "sendall，内部调用send会一直向缓冲区写，直到文件全部写完。\n",
    "例如：\n",
    "sendall(1g数据)\n",
    "\n",
    "    第一次：\n",
    "        send(1023M)\n",
    "    第二次：\n",
    "        send(1M)\n",
    "\n",
    "＝＝＝＝＝＝＝＝＝＝\n",
    "发送大文件时候，不可能全部读1G内存，需要open文件时，一点一点读，然后再发。"
   ]
  },
  {
   "cell_type": "markdown",
   "metadata": {},
   "source": [
    "# 大文件大小\n",
    "f =  file(文件路径,'rb')"
   ]
  },
  {
   "cell_type": "markdown",
   "metadata": {},
   "source": [
    "# 已经发送的数据\n",
    "send_size = 0"
   ]
  },
  {
   "cell_type": "markdown",
   "metadata": {},
   "source": [
    "while Flag:\n",
    "    #大文件只剩下 不到 1024 字节，其他已经被发送。\n",
    "    if send_size + 1024 > file_size:\n",
    "        #从大文件中读取小于 1024字节，可能是 10字节...\n",
    "        data = f.read(file_size-send_size)\n",
    "        Flag = False\n",
    "    else:\n",
    "        #从大文件中读取 1024 字节\n",
    "        data = f.read(1024)\n",
    "        #记录已经发送了多少字节\n",
    "        send_size += 1024\n",
    "    #将大文件中的数据，分批发送到缓冲区，每次最多发 1024 字节\n",
    "    sk.sendall(data)"
   ]
  },
  {
   "cell_type": "markdown",
   "metadata": {},
   "source": [
    "# 二、select"
   ]
  },
  {
   "cell_type": "markdown",
   "metadata": {},
   "source": [
    "Linux中的 select，poll，epoll 都是IO多路复用的机制。\n",
    "\n",
    "I/O多路复用指：通过一种机制，可以监视多个描述符，一旦某个描述符就绪（一般是读就绪或者写就绪），能够通知程序进行相应的读写操作。\n",
    "select \n",
    "select最早于1983年出现在4.2BSD中，它通过一个select()系统调用来监视多个文件描述符的数组，当select()返回后，该数组中就绪的文件描述符便会被内核修改标志位，使得进程可以获得这些文件描述符从而进行后续的读写操作。\n",
    "\n",
    "select目前几乎在所有的平台上支持，其良好跨平台支持也是它的一个优点，事实上从现在看来，这也是它所剩不多的优点之一。\n",
    "\n",
    "select的一个缺点在于单个进程能够监视的文件描述符的数量存在最大限制，在Linux上一般为1024，不过可以通过修改宏定义甚至重新编译内核的方式提升这一限制。\n",
    "\n",
    "另外，select()所维护的存储大量文件描述符的数据结构，随着文件描述符数量的增大，其复制的开销也线性增长。同时，由于网络响应时间的延迟使得大量TCP连接处于非活跃状态，但调用select()会对所有socket进行一次线性扫描，所以这也浪费了一定的开销。\n",
    "\n",
    "poll \n",
    "poll在1986年诞生于System V Release 3，它和select在本质上没有多大差别，但是poll没有最大文件描述符数量的限制。\n",
    "\n",
    "poll和select同样存在一个缺点就是，包含大量文件描述符的数组被整体复制于用户态和内核的地址空间之间，而不论这些文件描述符是否就绪，它的开销随着文件描述符数量的增加而线性增大。\n",
    "\n",
    "另外，select()和poll()将就绪的文件描述符告诉进程后，如果进程没有对其进行IO操作，那么下次调用select()和poll()的时候将再次报告这些文件描述符，所以它们一般不会丢失就绪的消息，这种方式称为水平触发（Level Triggered）。\n",
    "\n",
    "epoll \n",
    "直到Linux2.6才出现了由内核直接支持的实现方法，那就是epoll，它几乎具备了之前所说的一切优点，被公认为Linux2.6下性能最好的多路I/O就绪通知方法。\n",
    "\n",
    "epoll可以同时支持水平触发和边缘触发（Edge Triggered，只告诉进程哪些文件描述符刚刚变为就绪状态，它只说一遍，如果我们没有采取行动，那么它将不会再次告知，这种方式称为边缘触发），理论上边缘触发的性能要更高一些，但是代码实现相当复杂。\n",
    "\n",
    "epoll同样只告知那些就绪的文件描述符，而且当我们调用epoll_wait()获得就绪文件描述符时，返回的不是实际的描述符，而是一个代表就绪描述符数量的值，你只需要去epoll指定的一个数组中依次取得相应数量的文件描述符即可，这里也使用了内存映射（mmap）技术，这样便彻底省掉了这些文件描述符在系统调用时复制的开销。\n",
    "\n",
    "另一个本质的改进在于epoll采用基于事件的就绪通知方式。在select/poll中，进程只有在调用一定的方法后，内核才对所有监视的文件描述符进行扫描，而epoll事先通过epoll_ctl()来注册一个文件描述符，一旦基于某个文件描述符就绪时，内核会采用类似callback的回调机制，迅速激活这个文件描述符，当进程调用epoll_wait()时便得到通知。"
   ]
  },
  {
   "cell_type": "markdown",
   "metadata": {},
   "source": [
    "# 服务器端\n",
    "#-*- coding:utf-8 -*-\n",
    "import socket\n",
    "import threading\n",
    "import select\n",
    "\n",
    "\n",
    "def process(request, client_address):\n",
    "    print request,client_address\n",
    "    conn = request\n",
    "    conn.sendall('欢迎致电 10086，请输入1xxx,0转人工服务.')\n",
    "    flag = True\n",
    "    while flag:\n",
    "        data = conn.recv(1024)\n",
    "        if data == 'exit':\n",
    "            flag = False\n",
    "        elif data == '0':\n",
    "            conn.sendall('通过可能会被录音.balabala一大推')\n",
    "        else:\n",
    "            conn.sendall('请重新输入.')\n",
    "\n",
    "s1 = socket.socket(socket.AF_INET, socket.SOCK_STREAM)\n",
    "s1.bind(('127.0.0.1',8020))\n",
    "s1.listen(5)\n",
    "s2 = socket.socket(socket.AF_INET, socket.SOCK_STREAM)\n",
    "s2.bind(('127.0.0.1',8021))\n",
    "s2.listen(5)\n",
    "\n",
    "while True:\n",
    "    r, w, e = select.select([s1,s2,],[],[],1)\n",
    "    print 'looping'\n",
    "    for s in r:\n",
    "        print 'get request'\n",
    "        request, client_address = s.accept()\n",
    "        t = threading.Thread(target=process, args=(request, client_address))\n",
    "        t.daemon = False\n",
    "        t.start()\n",
    "\n",
    "s1.close()\n",
    "s2.close()"
   ]
  },
  {
   "cell_type": "markdown",
   "metadata": {},
   "source": [
    "# 客户端8020\n",
    "#-*- coding:utf-8 -*-\n",
    "\n",
    "import socket\n",
    "\n",
    "\n",
    "ip_port = ('127.0.0.1',8020)\n",
    "sk = socket.socket()\n",
    "sk.connect(ip_port)\n",
    "sk.settimeout(5)\n",
    "\n",
    "while True:\n",
    "    data = sk.recv(1024)\n",
    "    print ('receive:',data)\n",
    "    inp = raw_input('please input:')\n",
    "    sk.sendall(inp)\n",
    "    if inp == 'exit':\n",
    "        break\n",
    "\n",
    "sk.close()\n"
   ]
  },
  {
   "cell_type": "markdown",
   "metadata": {},
   "source": [
    "# 客户端8021\n",
    "#-*- coding:utf-8 -*-\n",
    "\n",
    "import socket\n",
    "\n",
    "\n",
    "ip_port = ('127.0.0.1',8021)\n",
    "sk = socket.socket()\n",
    "sk.connect(ip_port)\n",
    "sk.settimeout(5)\n",
    "\n",
    "while True:\n",
    "    data = sk.recv(1024)\n",
    "    print 'receive:',data\n",
    "    inp = raw_input('please input:')\n",
    "    sk.sendall(inp)\n",
    "    if inp == 'exit':\n",
    "        break\n",
    "\n",
    "sk.close()\n"
   ]
  },
  {
   "cell_type": "markdown",
   "metadata": {},
   "source": [
    "# 三、threading"
   ]
  },
  {
   "cell_type": "markdown",
   "metadata": {},
   "source": [
    "1、Python线程"
   ]
  },
  {
   "cell_type": "markdown",
   "metadata": {},
   "source": [
    "\n",
    "#-*- coding:utf-8 -*-\n",
    "import threading\n",
    "import time\n",
    "\n",
    "def show(arg):\n",
    "    time.sleep(1)\n",
    "    print ('thread'+str(arg))\n",
    "\n",
    "for i in range(10):\n",
    "    t = threading.Thread(target=show, args=(i,))\n",
    "    t.start()\n",
    "\n",
    "print ('main thread stop')"
   ]
  },
  {
   "cell_type": "markdown",
   "metadata": {},
   "source": [
    "上述代码创建了10个“前台”线程，然后控制器就交给了CPU，CPU根据指定算法进行调度，分片执行指令。\n",
    "\n",
    "更多方法：\n",
    "\n",
    "start            线程准备就绪，等待CPU调度\n",
    "setName      为线程设置名称\n",
    "getName      获取线程名称\n",
    "setDaemon   设置为后台线程或前台线程（默认）\n",
    "                   如果是后台线程，主线程执行过程中，后台线程也在进行，主线程执行完毕后，后台线程不论成功与否，均停止\n",
    "                    如果是前台线程，主线程执行过程中，前台线程也在进行，主线程执行完毕后，等待前台线程也执行完成后，程序停止\n",
    "join               逐个执行每个线程，执行完毕后继续往下执行...\n",
    "run              线程被cpu调度后执行此方法"
   ]
  },
  {
   "cell_type": "markdown",
   "metadata": {},
   "source": [
    "2、线程锁"
   ]
  },
  {
   "cell_type": "markdown",
   "metadata": {},
   "source": [
    "由于线程之间是进行随机调度，并且每个线程可能只执行n条执行之后，CPU接着执行其他线程。所以，可能出现如下问题："
   ]
  },
  {
   "cell_type": "markdown",
   "metadata": {},
   "source": [
    "# 未使用线程锁\n",
    "#-*- coding:utf-8 -*-\n",
    "import threading\n",
    "import time\n",
    "\n",
    "gl_num = 0\n",
    "\n",
    "def show(arg):\n",
    "    global gl_num\n",
    "    time.sleep(1)\n",
    "    gl_num +=1\n",
    "    print gl_num\n",
    "\n",
    "for i in range(10):\n",
    "    t = threading.Thread(target=show, args=(i,))\n",
    "    t.start()\n",
    "\n",
    "print 'main thread stop'\n"
   ]
  },
  {
   "cell_type": "markdown",
   "metadata": {},
   "source": [
    "# 使用线程锁\n",
    "#coding:utf-8\n",
    " \n",
    "import threading\n",
    "import time\n",
    " \n",
    "gl_num = 0\n",
    " \n",
    "lock = threading.RLock()\n",
    " \n",
    "def Func():\n",
    "    lock.acquire()\n",
    "    global gl_num\n",
    "    gl_num +=1\n",
    "    time.sleep(1)\n",
    "    print gl_num\n",
    "    lock.release()\n",
    "     \n",
    "for i in range(10):\n",
    "    t = threading.Thread(target=Func)\n",
    "    t.start()"
   ]
  },
  {
   "cell_type": "markdown",
   "metadata": {},
   "source": [
    "# 四、进程"
   ]
  },
  {
   "cell_type": "markdown",
   "metadata": {},
   "source": [
    "# 1.创建多进程程序\n",
    "from multiprocessing import Process\n",
    "import threading\n",
    "import time\n",
    "\n",
    "def foo(i):\n",
    "    print 'say hi',i\n",
    "\n",
    "for i in range(10):\n",
    "    p = Process(target=foo,args=(i,))\n",
    "    p.start()\n",
    "    \n",
    "#注意：由于进程之间的数据需要各自持有一份，所以创建进程需要的非常大的开销。"
   ]
  },
  {
   "cell_type": "markdown",
   "metadata": {},
   "source": [
    "# 2.进程共享数据\n",
    "#进程各自持有一份数据，默认无法共享数据\n",
    "#coding:utf-8\n",
    "\n",
    "from multiprocessing import Process\n",
    "from multiprocessing import Manager\n",
    "\n",
    "import time\n",
    "\n",
    "li = []\n",
    "\n",
    "def foo(i):\n",
    "    li.append(i)\n",
    "    print 'say hi',li\n",
    " \n",
    "for i in range(10):\n",
    "    p = Process(target=foo,args=(i,))\n",
    "    p.start()\n",
    "    \n",
    "print 'ending',li"
   ]
  },
  {
   "cell_type": "markdown",
   "metadata": {},
   "source": [
    "# 进程间共享数据\n",
    "#方法一，Array\n",
    "from multiprocessing import Process,Array\n",
    "temp = Array('i', [11,22,33,44])\n",
    "\n",
    "def Foo(i):\n",
    "    temp[i] = 100+i\n",
    "    for item in temp:\n",
    "        print i,'----->',item\n",
    "\n",
    "for i in range(2):\n",
    "    p = Process(target=Foo,args=(i,))\n",
    "    p.start()\n",
    "    p.join()\n",
    "\n",
    "#方法二：manage.dict()共享数据\n",
    "from multiprocessing import Process,Manager\n",
    "\n",
    "manage = Manager()\n",
    "dic = manage.dict()\n",
    "\n",
    "def Foo(i):\n",
    "    dic[i] = 100+i\n",
    "    print dic.values()\n",
    "\n",
    "for i in range(2):\n",
    "    p = Process(target=Foo,args=(i,))\n",
    "    p.start()\n",
    "    p.join()\n",
    "\n"
   ]
  },
  {
   "cell_type": "markdown",
   "metadata": {},
   "source": [
    "# 3.进程池\n",
    "#-*- coding:utf-8 -*-\n",
    "from  multiprocessing import Process,Pool\n",
    "import time\n",
    "\n",
    "def Foo(i):\n",
    "    time.sleep(2)\n",
    "    return i+100\n",
    "\n",
    "def Bar(arg):\n",
    "    print arg\n",
    "\n",
    "pool = Pool(5)\n",
    "#print pool.apply(Foo,(1,))\n",
    "#print pool.apply_async(func =Foo, args=(1,)).get()\n",
    "\n",
    "for i in range(10):\n",
    "    pool.apply_async(func=Foo, args=(i,),callback=Bar)\n",
    "\n",
    "print 'end'\n",
    "pool.close()\n",
    "pool.join()"
   ]
  },
  {
   "cell_type": "code",
   "execution_count": null,
   "metadata": {},
   "outputs": [],
   "source": []
  }
 ],
 "metadata": {
  "kernelspec": {
   "display_name": "Python 3",
   "language": "python",
   "name": "python3"
  },
  "language_info": {
   "codemirror_mode": {
    "name": "ipython",
    "version": 3
   },
   "file_extension": ".py",
   "mimetype": "text/x-python",
   "name": "python",
   "nbconvert_exporter": "python",
   "pygments_lexer": "ipython3",
   "version": "3.6.4"
  }
 },
 "nbformat": 4,
 "nbformat_minor": 2
}
